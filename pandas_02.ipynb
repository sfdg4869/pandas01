{
 "cells": [
  {
   "cell_type": "markdown",
   "id": "2d16e1f0",
   "metadata": {},
   "source": [
    "# DateFrame 의 탐색\n",
    "\n",
    "### https://raw.githubusercontent.com/DA4BAM/dataset/master/Attrition_simple2.CSV 이 주소로 부터 데이터를 받아와 실습을 할 예정\n",
    "\n",
    "##### 출처 : data는 Data Insight 한기영 대표님께서 제공해주신 데이터 "
   ]
  },
  {
   "cell_type": "code",
   "execution_count": 2,
   "id": "515aac1c",
   "metadata": {},
   "outputs": [],
   "source": [
    "# pandas 라이브러리 불러오기\n",
    "import pandas as pd"
   ]
  },
  {
   "cell_type": "code",
   "execution_count": 3,
   "id": "baf7ed1b",
   "metadata": {},
   "outputs": [],
   "source": [
    "# 주소를 통해 데이터 불러오기\n",
    "path = 'https://raw.githubusercontent.com/DA4BAM/dataset/master/Attrition_simple2.CSV'\n",
    "data = pd.read_csv(path)"
   ]
  },
  {
   "cell_type": "code",
   "execution_count": 4,
   "id": "22378931",
   "metadata": {},
   "outputs": [
    {
     "data": {
      "text/html": [
       "<div>\n",
       "<style scoped>\n",
       "    .dataframe tbody tr th:only-of-type {\n",
       "        vertical-align: middle;\n",
       "    }\n",
       "\n",
       "    .dataframe tbody tr th {\n",
       "        vertical-align: top;\n",
       "    }\n",
       "\n",
       "    .dataframe thead th {\n",
       "        text-align: right;\n",
       "    }\n",
       "</style>\n",
       "<table border=\"1\" class=\"dataframe\">\n",
       "  <thead>\n",
       "    <tr style=\"text-align: right;\">\n",
       "      <th></th>\n",
       "      <th>Attrition</th>\n",
       "      <th>Age</th>\n",
       "      <th>DistanceFromHome</th>\n",
       "      <th>EmployeeNumber</th>\n",
       "      <th>Gender</th>\n",
       "      <th>JobSatisfaction</th>\n",
       "      <th>MaritalStatus</th>\n",
       "      <th>MonthlyIncome</th>\n",
       "      <th>OverTime</th>\n",
       "      <th>PercentSalaryHike</th>\n",
       "      <th>TotalWorkingYears</th>\n",
       "    </tr>\n",
       "  </thead>\n",
       "  <tbody>\n",
       "    <tr>\n",
       "      <th>0</th>\n",
       "      <td>0</td>\n",
       "      <td>33</td>\n",
       "      <td>7</td>\n",
       "      <td>817</td>\n",
       "      <td>Male</td>\n",
       "      <td>3</td>\n",
       "      <td>Married</td>\n",
       "      <td>11691</td>\n",
       "      <td>No</td>\n",
       "      <td>11</td>\n",
       "      <td>14</td>\n",
       "    </tr>\n",
       "    <tr>\n",
       "      <th>1</th>\n",
       "      <td>0</td>\n",
       "      <td>35</td>\n",
       "      <td>18</td>\n",
       "      <td>1412</td>\n",
       "      <td>Male</td>\n",
       "      <td>4</td>\n",
       "      <td>Single</td>\n",
       "      <td>9362</td>\n",
       "      <td>No</td>\n",
       "      <td>11</td>\n",
       "      <td>10</td>\n",
       "    </tr>\n",
       "    <tr>\n",
       "      <th>2</th>\n",
       "      <td>0</td>\n",
       "      <td>42</td>\n",
       "      <td>6</td>\n",
       "      <td>1911</td>\n",
       "      <td>Male</td>\n",
       "      <td>1</td>\n",
       "      <td>Married</td>\n",
       "      <td>13348</td>\n",
       "      <td>No</td>\n",
       "      <td>13</td>\n",
       "      <td>18</td>\n",
       "    </tr>\n",
       "    <tr>\n",
       "      <th>3</th>\n",
       "      <td>0</td>\n",
       "      <td>46</td>\n",
       "      <td>2</td>\n",
       "      <td>1204</td>\n",
       "      <td>Female</td>\n",
       "      <td>1</td>\n",
       "      <td>Married</td>\n",
       "      <td>17048</td>\n",
       "      <td>No</td>\n",
       "      <td>23</td>\n",
       "      <td>28</td>\n",
       "    </tr>\n",
       "    <tr>\n",
       "      <th>4</th>\n",
       "      <td>1</td>\n",
       "      <td>22</td>\n",
       "      <td>4</td>\n",
       "      <td>593</td>\n",
       "      <td>Male</td>\n",
       "      <td>3</td>\n",
       "      <td>Single</td>\n",
       "      <td>3894</td>\n",
       "      <td>No</td>\n",
       "      <td>16</td>\n",
       "      <td>4</td>\n",
       "    </tr>\n",
       "  </tbody>\n",
       "</table>\n",
       "</div>"
      ],
      "text/plain": [
       "   Attrition  Age  DistanceFromHome  EmployeeNumber  Gender  JobSatisfaction  \\\n",
       "0          0   33                 7             817    Male                3   \n",
       "1          0   35                18            1412    Male                4   \n",
       "2          0   42                 6            1911    Male                1   \n",
       "3          0   46                 2            1204  Female                1   \n",
       "4          1   22                 4             593    Male                3   \n",
       "\n",
       "  MaritalStatus  MonthlyIncome OverTime  PercentSalaryHike  TotalWorkingYears  \n",
       "0       Married          11691       No                 11                 14  \n",
       "1        Single           9362       No                 11                 10  \n",
       "2       Married          13348       No                 13                 18  \n",
       "3       Married          17048       No                 23                 28  \n",
       "4        Single           3894       No                 16                  4  "
      ]
     },
     "execution_count": 4,
     "metadata": {},
     "output_type": "execute_result"
    }
   ],
   "source": [
    "# 상위 5개 data 확인하기 default 값 = 5 \n",
    "data.head()"
   ]
  },
  {
   "cell_type": "code",
   "execution_count": 5,
   "id": "625bf5f1",
   "metadata": {},
   "outputs": [
    {
     "data": {
      "text/html": [
       "<div>\n",
       "<style scoped>\n",
       "    .dataframe tbody tr th:only-of-type {\n",
       "        vertical-align: middle;\n",
       "    }\n",
       "\n",
       "    .dataframe tbody tr th {\n",
       "        vertical-align: top;\n",
       "    }\n",
       "\n",
       "    .dataframe thead th {\n",
       "        text-align: right;\n",
       "    }\n",
       "</style>\n",
       "<table border=\"1\" class=\"dataframe\">\n",
       "  <thead>\n",
       "    <tr style=\"text-align: right;\">\n",
       "      <th></th>\n",
       "      <th>Attrition</th>\n",
       "      <th>Age</th>\n",
       "      <th>DistanceFromHome</th>\n",
       "      <th>EmployeeNumber</th>\n",
       "      <th>Gender</th>\n",
       "      <th>JobSatisfaction</th>\n",
       "      <th>MaritalStatus</th>\n",
       "      <th>MonthlyIncome</th>\n",
       "      <th>OverTime</th>\n",
       "      <th>PercentSalaryHike</th>\n",
       "      <th>TotalWorkingYears</th>\n",
       "    </tr>\n",
       "  </thead>\n",
       "  <tbody>\n",
       "    <tr>\n",
       "      <th>1191</th>\n",
       "      <td>0</td>\n",
       "      <td>32</td>\n",
       "      <td>5</td>\n",
       "      <td>1555</td>\n",
       "      <td>Female</td>\n",
       "      <td>2</td>\n",
       "      <td>Married</td>\n",
       "      <td>5878</td>\n",
       "      <td>No</td>\n",
       "      <td>12</td>\n",
       "      <td>12</td>\n",
       "    </tr>\n",
       "    <tr>\n",
       "      <th>1192</th>\n",
       "      <td>0</td>\n",
       "      <td>27</td>\n",
       "      <td>19</td>\n",
       "      <td>1619</td>\n",
       "      <td>Male</td>\n",
       "      <td>1</td>\n",
       "      <td>Divorced</td>\n",
       "      <td>4066</td>\n",
       "      <td>No</td>\n",
       "      <td>11</td>\n",
       "      <td>7</td>\n",
       "    </tr>\n",
       "    <tr>\n",
       "      <th>1193</th>\n",
       "      <td>0</td>\n",
       "      <td>29</td>\n",
       "      <td>9</td>\n",
       "      <td>1558</td>\n",
       "      <td>Male</td>\n",
       "      <td>3</td>\n",
       "      <td>Married</td>\n",
       "      <td>2451</td>\n",
       "      <td>No</td>\n",
       "      <td>18</td>\n",
       "      <td>5</td>\n",
       "    </tr>\n",
       "    <tr>\n",
       "      <th>1194</th>\n",
       "      <td>0</td>\n",
       "      <td>29</td>\n",
       "      <td>2</td>\n",
       "      <td>469</td>\n",
       "      <td>Male</td>\n",
       "      <td>3</td>\n",
       "      <td>Married</td>\n",
       "      <td>4649</td>\n",
       "      <td>No</td>\n",
       "      <td>14</td>\n",
       "      <td>4</td>\n",
       "    </tr>\n",
       "    <tr>\n",
       "      <th>1195</th>\n",
       "      <td>0</td>\n",
       "      <td>43</td>\n",
       "      <td>16</td>\n",
       "      <td>327</td>\n",
       "      <td>Female</td>\n",
       "      <td>4</td>\n",
       "      <td>Married</td>\n",
       "      <td>16064</td>\n",
       "      <td>Yes</td>\n",
       "      <td>22</td>\n",
       "      <td>22</td>\n",
       "    </tr>\n",
       "  </tbody>\n",
       "</table>\n",
       "</div>"
      ],
      "text/plain": [
       "      Attrition  Age  DistanceFromHome  EmployeeNumber  Gender  \\\n",
       "1191          0   32                 5            1555  Female   \n",
       "1192          0   27                19            1619    Male   \n",
       "1193          0   29                 9            1558    Male   \n",
       "1194          0   29                 2             469    Male   \n",
       "1195          0   43                16             327  Female   \n",
       "\n",
       "      JobSatisfaction MaritalStatus  MonthlyIncome OverTime  \\\n",
       "1191                2       Married           5878       No   \n",
       "1192                1      Divorced           4066       No   \n",
       "1193                3       Married           2451       No   \n",
       "1194                3       Married           4649       No   \n",
       "1195                4       Married          16064      Yes   \n",
       "\n",
       "      PercentSalaryHike  TotalWorkingYears  \n",
       "1191                 12                 12  \n",
       "1192                 11                  7  \n",
       "1193                 18                  5  \n",
       "1194                 14                  4  \n",
       "1195                 22                 22  "
      ]
     },
     "execution_count": 5,
     "metadata": {},
     "output_type": "execute_result"
    }
   ],
   "source": [
    "# 하위 5개 data 확인하기 \n",
    "data.tail()"
   ]
  },
  {
   "cell_type": "code",
   "execution_count": 6,
   "id": "3f3f56be",
   "metadata": {},
   "outputs": [
    {
     "data": {
      "text/plain": [
       "(1196, 11)"
      ]
     },
     "execution_count": 6,
     "metadata": {},
     "output_type": "execute_result"
    }
   ],
   "source": [
    "# datad의 모양 확인하기 (행,열)\n",
    "data.shape"
   ]
  },
  {
   "cell_type": "code",
   "execution_count": 7,
   "id": "f744f38a",
   "metadata": {},
   "outputs": [
    {
     "data": {
      "text/plain": [
       "array([[0, 33, 7, ..., 'No', 11, 14],\n",
       "       [0, 35, 18, ..., 'No', 11, 10],\n",
       "       [0, 42, 6, ..., 'No', 13, 18],\n",
       "       ...,\n",
       "       [0, 29, 9, ..., 'No', 18, 5],\n",
       "       [0, 29, 2, ..., 'No', 14, 4],\n",
       "       [0, 43, 16, ..., 'Yes', 22, 22]], dtype=object)"
      ]
     },
     "execution_count": 7,
     "metadata": {},
     "output_type": "execute_result"
    }
   ],
   "source": [
    "# 데이터 확인하기 배열 형태로 나온다.\n",
    "data.values"
   ]
  },
  {
   "cell_type": "code",
   "execution_count": 12,
   "id": "f8b90139",
   "metadata": {},
   "outputs": [
    {
     "data": {
      "text/plain": [
       "array(['Attrition', 'Age', 'DistanceFromHome', 'EmployeeNumber', 'Gender',\n",
       "       'JobSatisfaction', 'MaritalStatus', 'MonthlyIncome', 'OverTime',\n",
       "       'PercentSalaryHike', 'TotalWorkingYears'], dtype=object)"
      ]
     },
     "execution_count": 12,
     "metadata": {},
     "output_type": "execute_result"
    }
   ],
   "source": [
    "# 열의 이름들을 확인하기\n",
    "data.columns.values"
   ]
  },
  {
   "cell_type": "code",
   "execution_count": 9,
   "id": "d9f367b0",
   "metadata": {},
   "outputs": [
    {
     "data": {
      "text/plain": [
       "Index(['Attrition', 'Age', 'DistanceFromHome', 'EmployeeNumber', 'Gender',\n",
       "       'JobSatisfaction', 'MaritalStatus', 'MonthlyIncome', 'OverTime',\n",
       "       'PercentSalaryHike', 'TotalWorkingYears'],\n",
       "      dtype='object')"
      ]
     },
     "execution_count": 9,
     "metadata": {},
     "output_type": "execute_result"
    }
   ],
   "source": [
    "# 열의 이름들을 확인하기(동일)\n",
    "data.columns"
   ]
  },
  {
   "cell_type": "code",
   "execution_count": 8,
   "id": "59ac6ca2",
   "metadata": {},
   "outputs": [
    {
     "data": {
      "text/plain": [
       "Attrition             int64\n",
       "Age                   int64\n",
       "DistanceFromHome      int64\n",
       "EmployeeNumber        int64\n",
       "Gender               object\n",
       "JobSatisfaction       int64\n",
       "MaritalStatus        object\n",
       "MonthlyIncome         int64\n",
       "OverTime             object\n",
       "PercentSalaryHike     int64\n",
       "TotalWorkingYears     int64\n",
       "dtype: object"
      ]
     },
     "execution_count": 8,
     "metadata": {},
     "output_type": "execute_result"
    }
   ],
   "source": [
    "# 열들의 타입 확인하기\n",
    "data.dtypes"
   ]
  },
  {
   "cell_type": "code",
   "execution_count": 14,
   "id": "d0ef4ca6",
   "metadata": {},
   "outputs": [
    {
     "name": "stdout",
     "output_type": "stream",
     "text": [
      "<class 'pandas.core.frame.DataFrame'>\n",
      "RangeIndex: 1196 entries, 0 to 1195\n",
      "Data columns (total 11 columns):\n",
      " #   Column             Non-Null Count  Dtype \n",
      "---  ------             --------------  ----- \n",
      " 0   Attrition          1196 non-null   int64 \n",
      " 1   Age                1196 non-null   int64 \n",
      " 2   DistanceFromHome   1196 non-null   int64 \n",
      " 3   EmployeeNumber     1196 non-null   int64 \n",
      " 4   Gender             1196 non-null   object\n",
      " 5   JobSatisfaction    1196 non-null   int64 \n",
      " 6   MaritalStatus      1196 non-null   object\n",
      " 7   MonthlyIncome      1196 non-null   int64 \n",
      " 8   OverTime           1196 non-null   object\n",
      " 9   PercentSalaryHike  1196 non-null   int64 \n",
      " 10  TotalWorkingYears  1196 non-null   int64 \n",
      "dtypes: int64(8), object(3)\n",
      "memory usage: 102.9+ KB\n"
     ]
    }
   ],
   "source": [
    "#열의 정보들을 확인하기 null 값이 있는지 , 무슨 type 인지 이름이 무엇인지\n",
    "data.info()"
   ]
  },
  {
   "cell_type": "code",
   "execution_count": 15,
   "id": "ac6f477f",
   "metadata": {},
   "outputs": [
    {
     "data": {
      "text/html": [
       "<div>\n",
       "<style scoped>\n",
       "    .dataframe tbody tr th:only-of-type {\n",
       "        vertical-align: middle;\n",
       "    }\n",
       "\n",
       "    .dataframe tbody tr th {\n",
       "        vertical-align: top;\n",
       "    }\n",
       "\n",
       "    .dataframe thead th {\n",
       "        text-align: right;\n",
       "    }\n",
       "</style>\n",
       "<table border=\"1\" class=\"dataframe\">\n",
       "  <thead>\n",
       "    <tr style=\"text-align: right;\">\n",
       "      <th></th>\n",
       "      <th>Attrition</th>\n",
       "      <th>Age</th>\n",
       "      <th>DistanceFromHome</th>\n",
       "      <th>EmployeeNumber</th>\n",
       "      <th>JobSatisfaction</th>\n",
       "      <th>MonthlyIncome</th>\n",
       "      <th>PercentSalaryHike</th>\n",
       "      <th>TotalWorkingYears</th>\n",
       "    </tr>\n",
       "  </thead>\n",
       "  <tbody>\n",
       "    <tr>\n",
       "      <th>count</th>\n",
       "      <td>1196.000000</td>\n",
       "      <td>1196.00000</td>\n",
       "      <td>1196.000000</td>\n",
       "      <td>1196.000000</td>\n",
       "      <td>1196.000000</td>\n",
       "      <td>1196.000000</td>\n",
       "      <td>1196.000000</td>\n",
       "      <td>1196.000000</td>\n",
       "    </tr>\n",
       "    <tr>\n",
       "      <th>mean</th>\n",
       "      <td>0.163043</td>\n",
       "      <td>36.94398</td>\n",
       "      <td>9.258361</td>\n",
       "      <td>1035.629599</td>\n",
       "      <td>2.716555</td>\n",
       "      <td>6520.104515</td>\n",
       "      <td>15.251672</td>\n",
       "      <td>11.330268</td>\n",
       "    </tr>\n",
       "    <tr>\n",
       "      <th>std</th>\n",
       "      <td>0.369560</td>\n",
       "      <td>9.09270</td>\n",
       "      <td>8.166016</td>\n",
       "      <td>604.340130</td>\n",
       "      <td>1.110962</td>\n",
       "      <td>4665.902253</td>\n",
       "      <td>3.625946</td>\n",
       "      <td>7.823821</td>\n",
       "    </tr>\n",
       "    <tr>\n",
       "      <th>min</th>\n",
       "      <td>0.000000</td>\n",
       "      <td>18.00000</td>\n",
       "      <td>1.000000</td>\n",
       "      <td>1.000000</td>\n",
       "      <td>1.000000</td>\n",
       "      <td>1009.000000</td>\n",
       "      <td>11.000000</td>\n",
       "      <td>0.000000</td>\n",
       "    </tr>\n",
       "    <tr>\n",
       "      <th>25%</th>\n",
       "      <td>0.000000</td>\n",
       "      <td>30.00000</td>\n",
       "      <td>2.000000</td>\n",
       "      <td>507.750000</td>\n",
       "      <td>2.000000</td>\n",
       "      <td>2928.250000</td>\n",
       "      <td>12.000000</td>\n",
       "      <td>6.000000</td>\n",
       "    </tr>\n",
       "    <tr>\n",
       "      <th>50%</th>\n",
       "      <td>0.000000</td>\n",
       "      <td>36.00000</td>\n",
       "      <td>7.000000</td>\n",
       "      <td>1028.000000</td>\n",
       "      <td>3.000000</td>\n",
       "      <td>4973.500000</td>\n",
       "      <td>14.000000</td>\n",
       "      <td>10.000000</td>\n",
       "    </tr>\n",
       "    <tr>\n",
       "      <th>75%</th>\n",
       "      <td>0.000000</td>\n",
       "      <td>43.00000</td>\n",
       "      <td>14.000000</td>\n",
       "      <td>1581.250000</td>\n",
       "      <td>4.000000</td>\n",
       "      <td>8420.500000</td>\n",
       "      <td>18.000000</td>\n",
       "      <td>15.000000</td>\n",
       "    </tr>\n",
       "    <tr>\n",
       "      <th>max</th>\n",
       "      <td>1.000000</td>\n",
       "      <td>60.00000</td>\n",
       "      <td>29.000000</td>\n",
       "      <td>2068.000000</td>\n",
       "      <td>4.000000</td>\n",
       "      <td>19999.000000</td>\n",
       "      <td>25.000000</td>\n",
       "      <td>40.000000</td>\n",
       "    </tr>\n",
       "  </tbody>\n",
       "</table>\n",
       "</div>"
      ],
      "text/plain": [
       "         Attrition         Age  DistanceFromHome  EmployeeNumber  \\\n",
       "count  1196.000000  1196.00000       1196.000000     1196.000000   \n",
       "mean      0.163043    36.94398          9.258361     1035.629599   \n",
       "std       0.369560     9.09270          8.166016      604.340130   \n",
       "min       0.000000    18.00000          1.000000        1.000000   \n",
       "25%       0.000000    30.00000          2.000000      507.750000   \n",
       "50%       0.000000    36.00000          7.000000     1028.000000   \n",
       "75%       0.000000    43.00000         14.000000     1581.250000   \n",
       "max       1.000000    60.00000         29.000000     2068.000000   \n",
       "\n",
       "       JobSatisfaction  MonthlyIncome  PercentSalaryHike  TotalWorkingYears  \n",
       "count      1196.000000    1196.000000        1196.000000        1196.000000  \n",
       "mean          2.716555    6520.104515          15.251672          11.330268  \n",
       "std           1.110962    4665.902253           3.625946           7.823821  \n",
       "min           1.000000    1009.000000          11.000000           0.000000  \n",
       "25%           2.000000    2928.250000          12.000000           6.000000  \n",
       "50%           3.000000    4973.500000          14.000000          10.000000  \n",
       "75%           4.000000    8420.500000          18.000000          15.000000  \n",
       "max           4.000000   19999.000000          25.000000          40.000000  "
      ]
     },
     "execution_count": 15,
     "metadata": {},
     "output_type": "execute_result"
    }
   ],
   "source": [
    "# 열의 갯수, 평균, 표준편차 최솟값, 4분위수, 최댓값을 나타낸다 . (기초 통계 정보확인)\n",
    "data.describe()"
   ]
  },
  {
   "cell_type": "code",
   "execution_count": 17,
   "id": "ac45ed27",
   "metadata": {},
   "outputs": [
    {
     "data": {
      "text/html": [
       "<div>\n",
       "<style scoped>\n",
       "    .dataframe tbody tr th:only-of-type {\n",
       "        vertical-align: middle;\n",
       "    }\n",
       "\n",
       "    .dataframe tbody tr th {\n",
       "        vertical-align: top;\n",
       "    }\n",
       "\n",
       "    .dataframe thead th {\n",
       "        text-align: right;\n",
       "    }\n",
       "</style>\n",
       "<table border=\"1\" class=\"dataframe\">\n",
       "  <thead>\n",
       "    <tr style=\"text-align: right;\">\n",
       "      <th></th>\n",
       "      <th>Age</th>\n",
       "    </tr>\n",
       "  </thead>\n",
       "  <tbody>\n",
       "    <tr>\n",
       "      <th>count</th>\n",
       "      <td>1196.00000</td>\n",
       "    </tr>\n",
       "    <tr>\n",
       "      <th>mean</th>\n",
       "      <td>36.94398</td>\n",
       "    </tr>\n",
       "    <tr>\n",
       "      <th>std</th>\n",
       "      <td>9.09270</td>\n",
       "    </tr>\n",
       "    <tr>\n",
       "      <th>min</th>\n",
       "      <td>18.00000</td>\n",
       "    </tr>\n",
       "    <tr>\n",
       "      <th>25%</th>\n",
       "      <td>30.00000</td>\n",
       "    </tr>\n",
       "    <tr>\n",
       "      <th>50%</th>\n",
       "      <td>36.00000</td>\n",
       "    </tr>\n",
       "    <tr>\n",
       "      <th>75%</th>\n",
       "      <td>43.00000</td>\n",
       "    </tr>\n",
       "    <tr>\n",
       "      <th>max</th>\n",
       "      <td>60.00000</td>\n",
       "    </tr>\n",
       "  </tbody>\n",
       "</table>\n",
       "</div>"
      ],
      "text/plain": [
       "              Age\n",
       "count  1196.00000\n",
       "mean     36.94398\n",
       "std       9.09270\n",
       "min      18.00000\n",
       "25%      30.00000\n",
       "50%      36.00000\n",
       "75%      43.00000\n",
       "max      60.00000"
      ]
     },
     "execution_count": 17,
     "metadata": {},
     "output_type": "execute_result"
    }
   ],
   "source": [
    "# 열 중에서 Age 의 기초 통계 정보확인 \n",
    "data[['Age']].describe()"
   ]
  },
  {
   "cell_type": "code",
   "execution_count": 21,
   "id": "d085f1e9",
   "metadata": {},
   "outputs": [
    {
     "data": {
      "text/plain": [
       "array(['Male', 'Female'], dtype=object)"
      ]
     },
     "execution_count": 21,
     "metadata": {},
     "output_type": "execute_result"
    }
   ],
   "source": [
    "# Gender 열의 고유한 값을 확인한다.\n",
    "data['Gender'].unique()"
   ]
  },
  {
   "cell_type": "code",
   "execution_count": 22,
   "id": "fb0b817d",
   "metadata": {},
   "outputs": [
    {
     "data": {
      "text/plain": [
       "Male      727\n",
       "Female    469\n",
       "Name: Gender, dtype: int64"
      ]
     },
     "execution_count": 22,
     "metadata": {},
     "output_type": "execute_result"
    }
   ],
   "source": [
    "# Gender 열의 고유한 값들의 갯수가 어떻게 되는지 확인한다.\n",
    "data['Gender'].value_counts()"
   ]
  },
  {
   "cell_type": "markdown",
   "id": "e10462ff",
   "metadata": {},
   "source": [
    "# DateFrame 의 집계"
   ]
  },
  {
   "cell_type": "code",
   "execution_count": 23,
   "id": "2c71e233",
   "metadata": {},
   "outputs": [
    {
     "data": {
      "text/plain": [
       "44185"
      ]
     },
     "execution_count": 23,
     "metadata": {},
     "output_type": "execute_result"
    }
   ],
   "source": [
    "# Age 열의 합\n",
    "data['Age'].sum()"
   ]
  },
  {
   "cell_type": "code",
   "execution_count": 24,
   "id": "c4ded3a9",
   "metadata": {},
   "outputs": [
    {
     "data": {
      "text/plain": [
       "60"
      ]
     },
     "execution_count": 24,
     "metadata": {},
     "output_type": "execute_result"
    }
   ],
   "source": [
    "# Age 열의 최대값\n",
    "data['Age'].max()"
   ]
  },
  {
   "cell_type": "code",
   "execution_count": 25,
   "id": "270147c6",
   "metadata": {},
   "outputs": [
    {
     "data": {
      "text/plain": [
       "36.94397993311037"
      ]
     },
     "execution_count": 25,
     "metadata": {},
     "output_type": "execute_result"
    }
   ],
   "source": [
    "# Age 열의 평균값\n",
    "data['Age'].mean()"
   ]
  },
  {
   "cell_type": "code",
   "execution_count": 9,
   "id": "1fe4d399",
   "metadata": {},
   "outputs": [
    {
     "data": {
      "text/plain": [
       "36.0"
      ]
     },
     "execution_count": 9,
     "metadata": {},
     "output_type": "execute_result"
    }
   ],
   "source": [
    "# Age 열의 중앙값\n",
    "data['Age'].median()"
   ]
  },
  {
   "cell_type": "code",
   "execution_count": 10,
   "id": "543ec820",
   "metadata": {},
   "outputs": [
    {
     "data": {
      "text/plain": [
       "18"
      ]
     },
     "execution_count": 10,
     "metadata": {},
     "output_type": "execute_result"
    }
   ],
   "source": [
    "# Age 열의 최솟값\n",
    "data['Age'].min()"
   ]
  },
  {
   "cell_type": "code",
   "execution_count": null,
   "id": "5d35cc03",
   "metadata": {},
   "outputs": [],
   "source": []
  }
 ],
 "metadata": {
  "kernelspec": {
   "display_name": "Python 3",
   "language": "python",
   "name": "python3"
  },
  "language_info": {
   "codemirror_mode": {
    "name": "ipython",
    "version": 3
   },
   "file_extension": ".py",
   "mimetype": "text/x-python",
   "name": "python",
   "nbconvert_exporter": "python",
   "pygments_lexer": "ipython3",
   "version": "3.8.8"
  }
 },
 "nbformat": 4,
 "nbformat_minor": 5
}
