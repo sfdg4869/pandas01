{
 "cells": [
  {
   "cell_type": "markdown",
   "id": "dee7de41",
   "metadata": {},
   "source": [
    "## pandas 불러오기"
   ]
  },
  {
   "cell_type": "code",
   "execution_count": 1,
   "id": "df89a534",
   "metadata": {},
   "outputs": [],
   "source": [
    "import pandas as pd"
   ]
  },
  {
   "cell_type": "markdown",
   "id": "975edf47",
   "metadata": {},
   "source": [
    "# pandas Series 객체\n",
    "### - pandas Series는 인덱싱된 데이터의 1차원 배열, 후에 나올 DataFrame 에서 열만 떼어낸 것이라 \n",
    "###   본인은 생각하였다. "
   ]
  },
  {
   "cell_type": "code",
   "execution_count": 2,
   "id": "a286ef73",
   "metadata": {},
   "outputs": [
    {
     "data": {
      "text/plain": [
       "0         0.000\n",
       "1         1.000\n",
       "2         3.500\n",
       "3       215.000\n",
       "4    669451.000\n",
       "5       213.000\n",
       "6         0.213\n",
       "7        25.000\n",
       "8         0.020\n",
       "dtype: float64"
      ]
     },
     "execution_count": 2,
     "metadata": {},
     "output_type": "execute_result"
    }
   ],
   "source": [
    "# series객체 만들어 data라는 변수에 담기 \n",
    "# 리스트로 만들수 있으며 value와 index로 접근 가능하다.\n",
    "data = pd.Series([0, 1, 3.5, 215, 669451, 213, 0.213, 25, 0.02])\n",
    "\n",
    "#출력 data type 은 float\n",
    "data"
   ]
  },
  {
   "cell_type": "code",
   "execution_count": 3,
   "id": "01087a1a",
   "metadata": {},
   "outputs": [
    {
     "data": {
      "text/plain": [
       "array([0.00000e+00, 1.00000e+00, 3.50000e+00, 2.15000e+02, 6.69451e+05,\n",
       "       2.13000e+02, 2.13000e-01, 2.50000e+01, 2.00000e-02])"
      ]
     },
     "execution_count": 3,
     "metadata": {},
     "output_type": "execute_result"
    }
   ],
   "source": [
    "# value 값으로 접근하여보기\n",
    "data.values"
   ]
  },
  {
   "cell_type": "code",
   "execution_count": 4,
   "id": "076114f7",
   "metadata": {},
   "outputs": [
    {
     "data": {
      "text/plain": [
       "RangeIndex(start=0, stop=9, step=1)"
      ]
     },
     "execution_count": 4,
     "metadata": {},
     "output_type": "execute_result"
    }
   ],
   "source": [
    "# index 값 확인하기 0 번부터 8 번까지 9개의 data가 존재한다. \n",
    "data.index"
   ]
  },
  {
   "cell_type": "code",
   "execution_count": 5,
   "id": "508f9db6",
   "metadata": {},
   "outputs": [
    {
     "data": {
      "text/plain": [
       "1.0"
      ]
     },
     "execution_count": 5,
     "metadata": {},
     "output_type": "execute_result"
    }
   ],
   "source": [
    "#index 값으로 접근하기\n",
    "data[1]"
   ]
  },
  {
   "cell_type": "code",
   "execution_count": 6,
   "id": "ec72f0bc",
   "metadata": {},
   "outputs": [
    {
     "data": {
      "text/plain": [
       "0    0.0\n",
       "1    1.0\n",
       "2    3.5\n",
       "dtype: float64"
      ]
     },
     "execution_count": 6,
     "metadata": {},
     "output_type": "execute_result"
    }
   ],
   "source": [
    "# index slicing 해보기 \n",
    "# slicing 을 하게되면 [n : m-1] 로 접근\n",
    "data[0:3]"
   ]
  },
  {
   "cell_type": "code",
   "execution_count": 7,
   "id": "46502625",
   "metadata": {},
   "outputs": [
    {
     "data": {
      "text/plain": [
       "A         0.000\n",
       "B         1.000\n",
       "C         3.500\n",
       "D       215.000\n",
       "E    669451.000\n",
       "F       213.000\n",
       "G         0.213\n",
       "H        25.000\n",
       "I         0.020\n",
       "dtype: float64"
      ]
     },
     "execution_count": 7,
     "metadata": {},
     "output_type": "execute_result"
    }
   ],
   "source": [
    "# index값을 문자로 지정해주기 \n",
    "# 기본 숫자로 되어있던 index 값을 문자로 지정해주었다.\n",
    "data = pd.Series([0, 1, 3.5, 215, 669451, 213, 0.213, 25, 0.02], index = ['A','B','C','D','E','F','G','H','I'])\n",
    "data"
   ]
  },
  {
   "cell_type": "code",
   "execution_count": 8,
   "id": "800e62ce",
   "metadata": {},
   "outputs": [
    {
     "data": {
      "text/plain": [
       "0.0"
      ]
     },
     "execution_count": 8,
     "metadata": {},
     "output_type": "execute_result"
    }
   ],
   "source": [
    "# 앞에서 바꾸어준 문자 index로 접근해보기\n",
    "data['A']"
   ]
  },
  {
   "cell_type": "code",
   "execution_count": 9,
   "id": "c7c373b6",
   "metadata": {},
   "outputs": [
    {
     "data": {
      "text/plain": [
       "C         3.5\n",
       "D       215.0\n",
       "E    669451.0\n",
       "dtype: float64"
      ]
     },
     "execution_count": 9,
     "metadata": {},
     "output_type": "execute_result"
    }
   ],
   "source": [
    "data['C': 'E']"
   ]
  },
  {
   "cell_type": "code",
   "execution_count": 12,
   "id": "a054bd7b",
   "metadata": {},
   "outputs": [
    {
     "data": {
      "text/plain": [
       "0    1\n",
       "1    2\n",
       "2    3\n",
       "3    4\n",
       "4    5\n",
       "dtype: int64"
      ]
     },
     "execution_count": 12,
     "metadata": {},
     "output_type": "execute_result"
    }
   ],
   "source": [
    "# index를 지정해주지 않으면 자동으로 정수가 기본이다.\n",
    "pd.Series([1,2,3,4,5])"
   ]
  },
  {
   "cell_type": "code",
   "execution_count": 13,
   "id": "d2c63107",
   "metadata": {},
   "outputs": [
    {
     "data": {
      "text/plain": [
       "a    1\n",
       "b    1\n",
       "c    1\n",
       "dtype: int64"
      ]
     },
     "execution_count": 13,
     "metadata": {},
     "output_type": "execute_result"
    }
   ],
   "source": [
    "# index를 지정해주고 value를 채우지 않았으면 value를 채우기 위해 데이터는 반복되는 스칼라 값이다.\n",
    "pd.Series(1, index = ['a','b','c'])"
   ]
  },
  {
   "cell_type": "markdown",
   "id": "111a5d15",
   "metadata": {},
   "source": [
    "# pandas DateaFrame 객체\n",
    "\n",
    "### - DateFrame 은 column 과 row  를 가지는 2차원 배열이라고 할 수있다,\n",
    "### - DateFrame 은 정렬된 Series 객체의 연속으로 볼 수있다. "
   ]
  },
  {
   "cell_type": "code",
   "execution_count": 20,
   "id": "a0b6e5ca",
   "metadata": {},
   "outputs": [
    {
     "data": {
      "text/plain": [
       "서울     10888\n",
       "부산      8544\n",
       "경기    120000\n",
       "강원      6598\n",
       "천안       221\n",
       "dtype: int64"
      ]
     },
     "execution_count": 20,
     "metadata": {},
     "output_type": "execute_result"
    }
   ],
   "source": [
    "# Series 의 복습\n",
    "# 지역별 인구수를 필자의 마음대로 지정하여 Series data를 임의로 생성하였다.\n",
    "populaion_dict = {'서울' : 10888, '부산' : 8544, '경기' : 120000, '강원' : 6598, '천안' : 221}\n",
    "population = pd.Series(populaion_dict)\n",
    "population"
   ]
  },
  {
   "cell_type": "code",
   "execution_count": 15,
   "id": "b038da5e",
   "metadata": {},
   "outputs": [
    {
     "data": {
      "text/plain": [
       "서울    15414\n",
       "부산     9851\n",
       "경기    12000\n",
       "강원     5805\n",
       "천안      585\n",
       "dtype: int64"
      ]
     },
     "execution_count": 15,
     "metadata": {},
     "output_type": "execute_result"
    }
   ],
   "source": [
    "# 지역별 면적을 필자의 마음대로 지정하여 Series data를 임의로 생성하였다.\n",
    "area_dict = {'서울' : 15414, '부산' : 9851, '경기' : 12000, '강원' : 5805, '천안' : 585}\n",
    "area = pd.Series(area_dict)\n",
    "area"
   ]
  },
  {
   "cell_type": "code",
   "execution_count": 21,
   "id": "55ce2e36",
   "metadata": {},
   "outputs": [
    {
     "data": {
      "text/html": [
       "<div>\n",
       "<style scoped>\n",
       "    .dataframe tbody tr th:only-of-type {\n",
       "        vertical-align: middle;\n",
       "    }\n",
       "\n",
       "    .dataframe tbody tr th {\n",
       "        vertical-align: top;\n",
       "    }\n",
       "\n",
       "    .dataframe thead th {\n",
       "        text-align: right;\n",
       "    }\n",
       "</style>\n",
       "<table border=\"1\" class=\"dataframe\">\n",
       "  <thead>\n",
       "    <tr style=\"text-align: right;\">\n",
       "      <th></th>\n",
       "      <th>population</th>\n",
       "      <th>area</th>\n",
       "    </tr>\n",
       "  </thead>\n",
       "  <tbody>\n",
       "    <tr>\n",
       "      <th>서울</th>\n",
       "      <td>10888</td>\n",
       "      <td>15414</td>\n",
       "    </tr>\n",
       "    <tr>\n",
       "      <th>부산</th>\n",
       "      <td>8544</td>\n",
       "      <td>9851</td>\n",
       "    </tr>\n",
       "    <tr>\n",
       "      <th>경기</th>\n",
       "      <td>120000</td>\n",
       "      <td>12000</td>\n",
       "    </tr>\n",
       "    <tr>\n",
       "      <th>강원</th>\n",
       "      <td>6598</td>\n",
       "      <td>5805</td>\n",
       "    </tr>\n",
       "    <tr>\n",
       "      <th>천안</th>\n",
       "      <td>221</td>\n",
       "      <td>585</td>\n",
       "    </tr>\n",
       "  </tbody>\n",
       "</table>\n",
       "</div>"
      ],
      "text/plain": [
       "    population   area\n",
       "서울       10888  15414\n",
       "부산        8544   9851\n",
       "경기      120000  12000\n",
       "강원        6598   5805\n",
       "천안         221    585"
      ]
     },
     "execution_count": 21,
     "metadata": {},
     "output_type": "execute_result"
    }
   ],
   "source": [
    "# 앞서만들었던 Series 들을  dictionary 를 이용하여 DateFrame 화 시켰다.\n",
    "states = pd.DataFrame({'population' : population,\n",
    "                      'area' : area})\n",
    "states"
   ]
  },
  {
   "cell_type": "code",
   "execution_count": 22,
   "id": "44c5f318",
   "metadata": {},
   "outputs": [
    {
     "data": {
      "text/plain": [
       "Index(['서울', '부산', '경기', '강원', '천안'], dtype='object')"
      ]
     },
     "execution_count": 22,
     "metadata": {},
     "output_type": "execute_result"
    }
   ],
   "source": [
    "# states의 index 값 확인\n",
    "states.index"
   ]
  },
  {
   "cell_type": "code",
   "execution_count": 23,
   "id": "1cfc7b66",
   "metadata": {},
   "outputs": [
    {
     "data": {
      "text/plain": [
       "Index(['population', 'area'], dtype='object')"
      ]
     },
     "execution_count": 23,
     "metadata": {},
     "output_type": "execute_result"
    }
   ],
   "source": [
    "# states의 열 이름 확인\n",
    "states.columns"
   ]
  },
  {
   "cell_type": "code",
   "execution_count": 24,
   "id": "1cf0351c",
   "metadata": {},
   "outputs": [
    {
     "data": {
      "text/plain": [
       "서울    15414\n",
       "부산     9851\n",
       "경기    12000\n",
       "강원     5805\n",
       "천안      585\n",
       "Name: area, dtype: int64"
      ]
     },
     "execution_count": 24,
     "metadata": {},
     "output_type": "execute_result"
    }
   ],
   "source": [
    "# area 열만 보고 싶으면 \n",
    "states['area']"
   ]
  },
  {
   "cell_type": "code",
   "execution_count": 25,
   "id": "42a94a62",
   "metadata": {},
   "outputs": [
    {
     "data": {
      "text/html": [
       "<div>\n",
       "<style scoped>\n",
       "    .dataframe tbody tr th:only-of-type {\n",
       "        vertical-align: middle;\n",
       "    }\n",
       "\n",
       "    .dataframe tbody tr th {\n",
       "        vertical-align: top;\n",
       "    }\n",
       "\n",
       "    .dataframe thead th {\n",
       "        text-align: right;\n",
       "    }\n",
       "</style>\n",
       "<table border=\"1\" class=\"dataframe\">\n",
       "  <thead>\n",
       "    <tr style=\"text-align: right;\">\n",
       "      <th></th>\n",
       "      <th>area</th>\n",
       "    </tr>\n",
       "  </thead>\n",
       "  <tbody>\n",
       "    <tr>\n",
       "      <th>서울</th>\n",
       "      <td>15414</td>\n",
       "    </tr>\n",
       "    <tr>\n",
       "      <th>부산</th>\n",
       "      <td>9851</td>\n",
       "    </tr>\n",
       "    <tr>\n",
       "      <th>경기</th>\n",
       "      <td>12000</td>\n",
       "    </tr>\n",
       "    <tr>\n",
       "      <th>강원</th>\n",
       "      <td>5805</td>\n",
       "    </tr>\n",
       "    <tr>\n",
       "      <th>천안</th>\n",
       "      <td>585</td>\n",
       "    </tr>\n",
       "  </tbody>\n",
       "</table>\n",
       "</div>"
      ],
      "text/plain": [
       "     area\n",
       "서울  15414\n",
       "부산   9851\n",
       "경기  12000\n",
       "강원   5805\n",
       "천안    585"
      ]
     },
     "execution_count": 25,
     "metadata": {},
     "output_type": "execute_result"
    }
   ],
   "source": [
    "# area 열을 DateFrame 으로 보고싶으면\n",
    "states[['area']]"
   ]
  },
  {
   "cell_type": "code",
   "execution_count": 27,
   "id": "55beda60",
   "metadata": {},
   "outputs": [
    {
     "data": {
      "text/html": [
       "<div>\n",
       "<style scoped>\n",
       "    .dataframe tbody tr th:only-of-type {\n",
       "        vertical-align: middle;\n",
       "    }\n",
       "\n",
       "    .dataframe tbody tr th {\n",
       "        vertical-align: top;\n",
       "    }\n",
       "\n",
       "    .dataframe thead th {\n",
       "        text-align: right;\n",
       "    }\n",
       "</style>\n",
       "<table border=\"1\" class=\"dataframe\">\n",
       "  <thead>\n",
       "    <tr style=\"text-align: right;\">\n",
       "      <th></th>\n",
       "      <th>population</th>\n",
       "    </tr>\n",
       "  </thead>\n",
       "  <tbody>\n",
       "    <tr>\n",
       "      <th>서울</th>\n",
       "      <td>10888</td>\n",
       "    </tr>\n",
       "    <tr>\n",
       "      <th>부산</th>\n",
       "      <td>8544</td>\n",
       "    </tr>\n",
       "    <tr>\n",
       "      <th>경기</th>\n",
       "      <td>120000</td>\n",
       "    </tr>\n",
       "    <tr>\n",
       "      <th>강원</th>\n",
       "      <td>6598</td>\n",
       "    </tr>\n",
       "    <tr>\n",
       "      <th>천안</th>\n",
       "      <td>221</td>\n",
       "    </tr>\n",
       "  </tbody>\n",
       "</table>\n",
       "</div>"
      ],
      "text/plain": [
       "    population\n",
       "서울       10888\n",
       "부산        8544\n",
       "경기      120000\n",
       "강원        6598\n",
       "천안         221"
      ]
     },
     "execution_count": 27,
     "metadata": {},
     "output_type": "execute_result"
    }
   ],
   "source": [
    "# population 이름의 Series를 열 이름이 population 인 DataFrame 으로 만들기 \n",
    "pd.DataFrame(population, columns = ['population'])"
   ]
  },
  {
   "cell_type": "code",
   "execution_count": 28,
   "id": "9d51eceb",
   "metadata": {},
   "outputs": [
    {
     "data": {
      "text/html": [
       "<div>\n",
       "<style scoped>\n",
       "    .dataframe tbody tr th:only-of-type {\n",
       "        vertical-align: middle;\n",
       "    }\n",
       "\n",
       "    .dataframe tbody tr th {\n",
       "        vertical-align: top;\n",
       "    }\n",
       "\n",
       "    .dataframe thead th {\n",
       "        text-align: right;\n",
       "    }\n",
       "</style>\n",
       "<table border=\"1\" class=\"dataframe\">\n",
       "  <thead>\n",
       "    <tr style=\"text-align: right;\">\n",
       "      <th></th>\n",
       "      <th>a</th>\n",
       "      <th>b</th>\n",
       "    </tr>\n",
       "  </thead>\n",
       "  <tbody>\n",
       "    <tr>\n",
       "      <th>0</th>\n",
       "      <td>0</td>\n",
       "      <td>0</td>\n",
       "    </tr>\n",
       "    <tr>\n",
       "      <th>1</th>\n",
       "      <td>1</td>\n",
       "      <td>2</td>\n",
       "    </tr>\n",
       "    <tr>\n",
       "      <th>2</th>\n",
       "      <td>2</td>\n",
       "      <td>4</td>\n",
       "    </tr>\n",
       "    <tr>\n",
       "      <th>3</th>\n",
       "      <td>3</td>\n",
       "      <td>6</td>\n",
       "    </tr>\n",
       "    <tr>\n",
       "      <th>4</th>\n",
       "      <td>4</td>\n",
       "      <td>8</td>\n",
       "    </tr>\n",
       "  </tbody>\n",
       "</table>\n",
       "</div>"
      ],
      "text/plain": [
       "   a  b\n",
       "0  0  0\n",
       "1  1  2\n",
       "2  2  4\n",
       "3  3  6\n",
       "4  4  8"
      ]
     },
     "execution_count": 28,
     "metadata": {},
     "output_type": "execute_result"
    }
   ],
   "source": [
    "# 번외 . List Comprehension 으로 DataFrame 생성하기 \n",
    "data = [{'a' : i , 'b' : 2*  i}\n",
    "       for i in range(5)]\n",
    "pd.DataFrame(data)"
   ]
  },
  {
   "cell_type": "markdown",
   "id": "f34b6c66",
   "metadata": {},
   "source": [
    "### index 객체는 파이썬에 내장된 set data구조에서 사용하는 표기법을 따른다, 그렇기에 합집합,  교집합, 차집합의 연산이 가능하다."
   ]
  },
  {
   "cell_type": "code",
   "execution_count": 32,
   "id": "506a3245",
   "metadata": {},
   "outputs": [
    {
     "name": "stdout",
     "output_type": "stream",
     "text": [
      "Int64Index([3, 4, 5], dtype='int64')\n",
      "Int64Index([1, 2, 3, 4, 5, 6, 7], dtype='int64')\n",
      "Int64Index([1, 2, 6, 7], dtype='int64')\n"
     ]
    },
    {
     "name": "stderr",
     "output_type": "stream",
     "text": [
      "<ipython-input-32-8dcb65c02ff4>:4: FutureWarning: Index.__and__ operating as a set operation is deprecated, in the future this will be a logical operation matching Series.__and__.  Use index.intersection(other) instead\n",
      "  print(A & B) # 교집합\n",
      "<ipython-input-32-8dcb65c02ff4>:5: FutureWarning: Index.__or__ operating as a set operation is deprecated, in the future this will be a logical operation matching Series.__or__.  Use index.union(other) instead\n",
      "  print(A | B) # 합집합\n",
      "<ipython-input-32-8dcb65c02ff4>:6: FutureWarning: Index.__xor__ operating as a set operation is deprecated, in the future this will be a logical operation matching Series.__xor__.  Use index.symmetric_difference(other) instead\n",
      "  print(A ^ B) # 차집합\n"
     ]
    }
   ],
   "source": [
    "A = pd.Index([1,2,3,4,5])\n",
    "B = pd.Index([3,4,5,6,7])\n",
    "\n",
    "print(A & B) # 교집합\n",
    "print(A | B) # 합집합\n",
    "print(A ^ B) # 대칭 차집합"
   ]
  },
  {
   "cell_type": "code",
   "execution_count": null,
   "id": "603706de",
   "metadata": {},
   "outputs": [],
   "source": []
  }
 ],
 "metadata": {
  "kernelspec": {
   "display_name": "Python 3",
   "language": "python",
   "name": "python3"
  },
  "language_info": {
   "codemirror_mode": {
    "name": "ipython",
    "version": 3
   },
   "file_extension": ".py",
   "mimetype": "text/x-python",
   "name": "python",
   "nbconvert_exporter": "python",
   "pygments_lexer": "ipython3",
   "version": "3.8.8"
  }
 },
 "nbformat": 4,
 "nbformat_minor": 5
}
